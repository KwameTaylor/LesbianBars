{
 "cells": [
  {
   "cell_type": "markdown",
   "id": "c70a0bf6-3678-4724-b700-db6a45021d15",
   "metadata": {},
   "source": [
    "# US Lesbian Bars Research and Interactive Visualization Project"
   ]
  },
  {
   "cell_type": "code",
   "execution_count": 56,
   "id": "68b1ffbb-bd29-49d8-aae7-38759b0695f5",
   "metadata": {},
   "outputs": [],
   "source": [
    "# Import necessary libraries\n",
    "import pandas as pd\n",
    "from geopy.geocoders import Nominatim\n",
    "from geopy.exc import GeocoderTimedOut, GeocoderServiceError\n",
    "\n",
    "import time\n",
    "from tqdm import tqdm\n",
    "import os\n",
    "from dotenv import load_dotenv\n",
    "\n",
    "load_dotenv()  # Load environment variables from .env\n",
    "api_key = os.getenv(\"API_KEY\")"
   ]
  },
  {
   "cell_type": "code",
   "execution_count": 52,
   "id": "9a90fb46-6906-40c1-8a3c-ce73c06e39c1",
   "metadata": {},
   "outputs": [],
   "source": [
    "# Load the Excel file\n",
    "xls = 'LesbianBars_US.xlsx'\n",
    "df = pd.read_excel(xls, \"Bars\")"
   ]
  },
  {
   "cell_type": "code",
   "execution_count": 58,
   "id": "36681001-7680-4702-b31d-0d25d768d3c0",
   "metadata": {},
   "outputs": [],
   "source": [
    "# Check the DataFrame\n",
    "# df.head(3)"
   ]
  },
  {
   "cell_type": "code",
   "execution_count": null,
   "id": "c8cbc4ab-3133-4e3f-9636-89ae31d8b04a",
   "metadata": {},
   "outputs": [],
   "source": [
    "# Initialize the geocoder\n",
    "geolocator = Nominatim(user_agent=\"lesbianbars\")"
   ]
  },
  {
   "cell_type": "code",
   "execution_count": 59,
   "id": "85f2e3c3-9154-4cee-a724-579ec621f1e9",
   "metadata": {},
   "outputs": [
    {
     "name": "stderr",
     "output_type": "stream",
     "text": [
      "Geocoding bars:   0%|                                                                            | 0/57 [00:02<?, ?it/s]"
     ]
    },
    {
     "name": "stdout",
     "output_type": "stream",
     "text": [
      "Error for A League of Her Own: No results found\n"
     ]
    },
    {
     "name": "stderr",
     "output_type": "stream",
     "text": [
      "Geocoding bars:   2%|█▏                                                                  | 1/57 [00:03<02:58,  3.19s/it]"
     ]
    },
    {
     "name": "stdout",
     "output_type": "stream",
     "text": [
      "Error for Arcana Bar and Lounge: No results found\n"
     ]
    },
    {
     "name": "stderr",
     "output_type": "stream",
     "text": [
      "Geocoding bars:   5%|███▌                                                                | 3/57 [00:06<01:34,  1.74s/it]"
     ]
    },
    {
     "name": "stdout",
     "output_type": "stream",
     "text": [
      "Error for Babes of Carytown: No results found\n"
     ]
    },
    {
     "name": "stderr",
     "output_type": "stream",
     "text": [
      "Geocoding bars:   7%|████▊                                                               | 4/57 [00:07<01:20,  1.52s/it]"
     ]
    },
    {
     "name": "stdout",
     "output_type": "stream",
     "text": [
      "Error for The Backdoor: No results found\n"
     ]
    },
    {
     "name": "stderr",
     "output_type": "stream",
     "text": [
      "Geocoding bars:   9%|█████▉                                                              | 5/57 [00:08<01:12,  1.40s/it]"
     ]
    },
    {
     "name": "stdout",
     "output_type": "stream",
     "text": [
      "Error for Boycott Bar: No results found\n"
     ]
    },
    {
     "name": "stderr",
     "output_type": "stream",
     "text": [
      "Geocoding bars:  11%|███████▏                                                            | 6/57 [00:09<01:08,  1.34s/it]"
     ]
    },
    {
     "name": "stdout",
     "output_type": "stream",
     "text": [
      "Error for The Bush: No results found\n"
     ]
    },
    {
     "name": "stderr",
     "output_type": "stream",
     "text": [
      "Geocoding bars:  28%|██████████████████▊                                                | 16/57 [00:21<00:49,  1.21s/it]"
     ]
    },
    {
     "name": "stdout",
     "output_type": "stream",
     "text": [
      "Error for Jolene: No results found\n"
     ]
    },
    {
     "name": "stderr",
     "output_type": "stream",
     "text": [
      "Geocoding bars:  30%|███████████████████▉                                               | 17/57 [00:23<00:47,  1.19s/it]"
     ]
    },
    {
     "name": "stdout",
     "output_type": "stream",
     "text": [
      "Error for The Lady's Room: No results found\n"
     ]
    },
    {
     "name": "stderr",
     "output_type": "stream",
     "text": [
      "Geocoding bars:  32%|█████████████████████▏                                             | 18/57 [00:24<00:54,  1.40s/it]"
     ]
    },
    {
     "name": "stdout",
     "output_type": "stream",
     "text": [
      "Error for The Lipstick Lounge: No results found\n"
     ]
    },
    {
     "name": "stderr",
     "output_type": "stream",
     "text": [
      "Geocoding bars:  35%|███████████████████████▌                                           | 20/57 [00:27<00:49,  1.33s/it]"
     ]
    },
    {
     "name": "stdout",
     "output_type": "stream",
     "text": [
      "Error for My Sister's Room: No results found\n"
     ]
    },
    {
     "name": "stderr",
     "output_type": "stream",
     "text": [
      "Geocoding bars:  40%|███████████████████████████                                        | 23/57 [00:31<00:43,  1.28s/it]"
     ]
    },
    {
     "name": "stdout",
     "output_type": "stream",
     "text": [
      "Error for The Ruby Fruit: No results found\n"
     ]
    },
    {
     "name": "stderr",
     "output_type": "stream",
     "text": [
      "Geocoding bars:  42%|████████████████████████████▏                                      | 24/57 [00:32<00:41,  1.27s/it]"
     ]
    },
    {
     "name": "stdout",
     "output_type": "stream",
     "text": [
      "Error for Scarlet Fox Wine Bar: No results found\n"
     ]
    },
    {
     "name": "stderr",
     "output_type": "stream",
     "text": [
      "Geocoding bars:  49%|████████████████████████████████▉                                  | 28/57 [00:37<00:35,  1.22s/it]"
     ]
    },
    {
     "name": "stdout",
     "output_type": "stream",
     "text": [
      "Error for Unicorn Bar: No results found\n"
     ]
    },
    {
     "name": "stderr",
     "output_type": "stream",
     "text": [
      "Geocoding bars:  54%|████████████████████████████████████▍                              | 31/57 [00:40<00:31,  1.19s/it]"
     ]
    },
    {
     "name": "stdout",
     "output_type": "stream",
     "text": [
      "Error for Wildside West: No results found\n"
     ]
    },
    {
     "name": "stderr",
     "output_type": "stream",
     "text": [
      "Geocoding bars:  58%|██████████████████████████████████████▊                            | 33/57 [00:43<00:30,  1.26s/it]"
     ]
    },
    {
     "name": "stdout",
     "output_type": "stream",
     "text": [
      "Error for Herz: No results found\n"
     ]
    },
    {
     "name": "stderr",
     "output_type": "stream",
     "text": [
      "Geocoding bars:  60%|███████████████████████████████████████▉                           | 34/57 [00:44<00:28,  1.25s/it]"
     ]
    },
    {
     "name": "stdout",
     "output_type": "stream",
     "text": [
      "Error for Blush & Blue: No results found\n"
     ]
    },
    {
     "name": "stderr",
     "output_type": "stream",
     "text": [
      "Geocoding bars:  61%|█████████████████████████████████████████▏                         | 35/57 [00:45<00:26,  1.23s/it]"
     ]
    },
    {
     "name": "stdout",
     "output_type": "stream",
     "text": [
      "Error for Alibi's: No results found\n"
     ]
    },
    {
     "name": "stderr",
     "output_type": "stream",
     "text": [
      "Geocoding bars:  63%|██████████████████████████████████████████▎                        | 36/57 [00:47<00:25,  1.22s/it]"
     ]
    },
    {
     "name": "stdout",
     "output_type": "stream",
     "text": [
      "Error for Whisky Girl Tavern: No results found\n"
     ]
    },
    {
     "name": "stderr",
     "output_type": "stream",
     "text": [
      "Geocoding bars:  68%|█████████████████████████████████████████████▊                     | 39/57 [00:50<00:22,  1.23s/it]"
     ]
    },
    {
     "name": "stdout",
     "output_type": "stream",
     "text": [
      "Error for The Stop: No results found\n"
     ]
    },
    {
     "name": "stderr",
     "output_type": "stream",
     "text": [
      "Geocoding bars:  70%|███████████████████████████████████████████████                    | 40/57 [00:51<00:20,  1.22s/it]"
     ]
    },
    {
     "name": "stdout",
     "output_type": "stream",
     "text": [
      "Error for Lipstick 24: No results found\n"
     ]
    },
    {
     "name": "stderr",
     "output_type": "stream",
     "text": [
      "Geocoding bars:  74%|█████████████████████████████████████████████████▎                 | 42/57 [00:54<00:18,  1.22s/it]"
     ]
    },
    {
     "name": "stdout",
     "output_type": "stream",
     "text": [
      "Error for Toasted Walnut: No results found\n"
     ]
    },
    {
     "name": "stderr",
     "output_type": "stream",
     "text": [
      "Geocoding bars:  77%|███████████████████████████████████████████████████▋               | 44/57 [00:56<00:15,  1.21s/it]"
     ]
    },
    {
     "name": "stdout",
     "output_type": "stream",
     "text": [
      "Error for Broad's Lounge: No results found\n"
     ]
    },
    {
     "name": "stderr",
     "output_type": "stream",
     "text": [
      "Geocoding bars:  79%|████████████████████████████████████████████████████▉              | 45/57 [00:58<00:15,  1.28s/it]"
     ]
    },
    {
     "name": "stdout",
     "output_type": "stream",
     "text": [
      "Error for Sweetwater Saloon: No results found\n"
     ]
    },
    {
     "name": "stderr",
     "output_type": "stream",
     "text": [
      "Geocoding bars:  81%|██████████████████████████████████████████████████████             | 46/57 [00:59<00:13,  1.26s/it]"
     ]
    },
    {
     "name": "stdout",
     "output_type": "stream",
     "text": [
      "Error for Good Luck Charm: No results found\n"
     ]
    },
    {
     "name": "stderr",
     "output_type": "stream",
     "text": [
      "Geocoding bars:  82%|███████████████████████████████████████████████████████▏           | 47/57 [01:00<00:12,  1.26s/it]"
     ]
    },
    {
     "name": "stdout",
     "output_type": "stream",
     "text": [
      "Error for Fannie's: No results found\n"
     ]
    },
    {
     "name": "stderr",
     "output_type": "stream",
     "text": [
      "Geocoding bars:  84%|████████████████████████████████████████████████████████▍          | 48/57 [01:01<00:11,  1.25s/it]"
     ]
    },
    {
     "name": "stdout",
     "output_type": "stream",
     "text": [
      "Error for Wall Street: No results found\n"
     ]
    },
    {
     "name": "stderr",
     "output_type": "stream",
     "text": [
      "Geocoding bars:  86%|█████████████████████████████████████████████████████████▌         | 49/57 [01:03<00:10,  1.25s/it]"
     ]
    },
    {
     "name": "stdout",
     "output_type": "stream",
     "text": [
      "Error for GirlBar: No results found\n"
     ]
    },
    {
     "name": "stderr",
     "output_type": "stream",
     "text": [
      "Geocoding bars:  88%|██████████████████████████████████████████████████████████▊        | 50/57 [01:04<00:08,  1.20s/it]"
     ]
    },
    {
     "name": "stdout",
     "output_type": "stream",
     "text": [
      "Error for Coconuts: No results found\n"
     ]
    },
    {
     "name": "stderr",
     "output_type": "stream",
     "text": [
      "Geocoding bars:  89%|███████████████████████████████████████████████████████████▉       | 51/57 [01:05<00:07,  1.18s/it]"
     ]
    },
    {
     "name": "stdout",
     "output_type": "stream",
     "text": [
      "Error for The Cartwheel: No results found\n"
     ]
    },
    {
     "name": "stderr",
     "output_type": "stream",
     "text": [
      "Geocoding bars:  91%|█████████████████████████████████████████████████████████████      | 52/57 [01:06<00:05,  1.18s/it]"
     ]
    },
    {
     "name": "stdout",
     "output_type": "stream",
     "text": [
      "Error for Meow Mix: No results found\n"
     ]
    },
    {
     "name": "stderr",
     "output_type": "stream",
     "text": [
      "Geocoding bars:  93%|██████████████████████████████████████████████████████████████▎    | 53/57 [01:07<00:04,  1.17s/it]"
     ]
    },
    {
     "name": "stdout",
     "output_type": "stream",
     "text": [
      "Error for Clit Club: No results found\n"
     ]
    },
    {
     "name": "stderr",
     "output_type": "stream",
     "text": [
      "Geocoding bars:  95%|███████████████████████████████████████████████████████████████▍   | 54/57 [01:09<00:03,  1.17s/it]"
     ]
    },
    {
     "name": "stdout",
     "output_type": "stream",
     "text": [
      "Error for Cash Inn: No results found\n"
     ]
    },
    {
     "name": "stderr",
     "output_type": "stream",
     "text": [
      "Geocoding bars:  96%|████████████████████████████████████████████████████████████████▋  | 55/57 [01:10<00:02,  1.24s/it]"
     ]
    },
    {
     "name": "stdout",
     "output_type": "stream",
     "text": [
      "Error for The Lexington Club: No results found\n"
     ]
    },
    {
     "name": "stderr",
     "output_type": "stream",
     "text": [
      "Geocoding bars: 100%|███████████████████████████████████████████████████████████████████| 57/57 [01:12<00:00,  1.28s/it]"
     ]
    },
    {
     "name": "stdout",
     "output_type": "stream",
     "text": [
      "\n",
      "First few results:\n",
      "                bar_name                                      search_string  \\\n",
      "0    A League of Her Own           A League of Her Own, Washington, DC, USA   \n",
      "1  Arcana Bar and Lounge  Arcana Bar and Lounge, Durham, North Carolina,...   \n",
      "2             As You Are                    As You Are, Washington, DC, USA   \n",
      "3      Babes of Carytown         Babes of Carytown, Richmond, Virginia, USA   \n",
      "4           The Backdoor            The Backdoor, Bloomington, Indiana, USA   \n",
      "\n",
      "                                             address   latitude  longitude  \\\n",
      "0                                               None        NaN        NaN   \n",
      "1                                               None        NaN        NaN   \n",
      "2  As You Are, 500, 8th Street Southeast, Barrack...  38.882582 -76.994779   \n",
      "3                                               None        NaN        NaN   \n",
      "4                                               None        NaN        NaN   \n",
      "\n",
      "   neighbourhood  postcode  \n",
      "0            NaN       NaN  \n",
      "1            NaN       NaN  \n",
      "2            NaN       NaN  \n",
      "3            NaN       NaN  \n",
      "4            NaN       NaN  \n",
      "Saved geocoded data for 57 bars to LesbianBars_Geocoded.xlsx\n"
     ]
    },
    {
     "name": "stderr",
     "output_type": "stream",
     "text": [
      "\n"
     ]
    }
   ],
   "source": [
    "# Define functions\n",
    "\n",
    "def get_location_data(search_string, max_retries=3):\n",
    "    \"\"\"\n",
    "    Retrieves location data for a given search string using Nominatim (OpenStreetMap data).\n",
    "    Includes retry logic for handling timeouts and extracts additional location details.\n",
    "    \"\"\"\n",
    "    for attempt in range(max_retries):\n",
    "        try:\n",
    "            # Add a delay to respect Nominatim's usage policy (1 request per second)\n",
    "            if attempt > 0:\n",
    "                time.sleep(1)\n",
    "            \n",
    "            location = geolocator.geocode(search_string, timeout=10)\n",
    "            \n",
    "            if location:\n",
    "                # Basic location data\n",
    "                result = {\n",
    "                    'address': location.address,\n",
    "                    'latitude': location.latitude,\n",
    "                    'longitude': location.longitude\n",
    "                }\n",
    "                \n",
    "                # Add neighborhood and postcode if available in the address components\n",
    "                if 'address' in location.raw:\n",
    "                    addr = location.raw['address']\n",
    "                    \n",
    "                    # Extract neighbourhood (might be spelled differently in different regions)\n",
    "                    if 'neighbourhood' in addr:\n",
    "                        result['neighbourhood'] = addr['neighbourhood']\n",
    "                    elif 'neighborhood' in addr:\n",
    "                        result['neighbourhood'] = addr['neighborhood']\n",
    "                    else:\n",
    "                        result['neighbourhood'] = None\n",
    "                    \n",
    "                    # Extract postcode\n",
    "                    if 'postcode' in addr:\n",
    "                        result['postcode'] = addr['postcode']\n",
    "                    else:\n",
    "                        result['postcode'] = None\n",
    "                    \n",
    "                return result\n",
    "            else:\n",
    "                return {\n",
    "                    'address': None,\n",
    "                    'latitude': None,\n",
    "                    'longitude': None,\n",
    "                    'neighbourhood': None,\n",
    "                    'postcode': None,\n",
    "                    'error': \"No results found\"\n",
    "                }\n",
    "                \n",
    "        except (GeocoderTimedOut, GeocoderServiceError) as e:\n",
    "            if attempt == max_retries - 1:\n",
    "                return {\n",
    "                    'address': None,\n",
    "                    'latitude': None,\n",
    "                    'longitude': None,\n",
    "                    'neighbourhood': None,\n",
    "                    'postcode': None,\n",
    "                    'error': f\"Failed after {max_retries} attempts: {str(e)}\"\n",
    "                }\n",
    "            time.sleep(2)  # Wait a bit longer before retrying"
   ]
  },
  {
   "cell_type": "markdown",
   "id": "094220c3-a2ba-446f-9edd-bae58de02334",
   "metadata": {},
   "source": [
    "### Note: The following cell contributes towards API limits!"
   ]
  },
  {
   "cell_type": "code",
   "execution_count": null,
   "id": "03e7ef6a-a31e-4609-8eaf-a8dd6abdd108",
   "metadata": {},
   "outputs": [],
   "source": [
    "# Create search strings combining name, city and state\n",
    "results = []\n",
    "\n",
    "# Use tqdm to create a progress bar\n",
    "for _, row in tqdm(df.iterrows(), total=len(df), desc=\"Geocoding bars\"):\n",
    "    name = row['Name']\n",
    "    city = row['City'] if 'City' in row and pd.notna(row['City']) else \"\"\n",
    "    state = row['State'] if 'State' in row and pd.notna(row['State']) else \"\"\n",
    "    \n",
    "    search_string = f\"{name}, {city}, {state}, USA\"\n",
    "    \n",
    "    # Get location data\n",
    "    location_data = get_location_data(search_string)\n",
    "    \n",
    "    # Add the bar name and search string to the location data\n",
    "    location_data['bar_name'] = name\n",
    "    location_data['search_string'] = search_string\n",
    "    \n",
    "    # Print error if there was one (optional)\n",
    "    if 'error' in location_data:\n",
    "        tqdm.write(f\"Error for {name}: {location_data['error']}\")\n",
    "        location_data.pop('error', None)  # Remove error key from dictionary\n",
    "    \n",
    "    results.append(location_data)\n",
    "    \n",
    "    # Add a delay to respect Nominatim's usage policy (1 request per second)\n",
    "    time.sleep(1)"
   ]
  },
  {
   "cell_type": "code",
   "execution_count": null,
   "id": "6803ef80-9ea1-4af1-9137-eadabe10fa52",
   "metadata": {},
   "outputs": [],
   "source": [
    "# Create a DataFrame from the results\n",
    "results_df = pd.DataFrame(results)\n",
    "\n",
    "# Reorder the columns for better readability\n",
    "results_df = results_df[['bar_name', 'search_string', 'address', 'latitude', 'longitude', 'neighbourhood', 'postcode']]\n",
    "\n",
    "# Display the first few results\n",
    "print(\"\\nFirst few results:\")\n",
    "print(results_df.head())\n",
    "\n",
    "# Save the results to a new Excel file\n",
    "results_df.to_excel('LesbianBars_Geocoded.xlsx', index=False)\n",
    "print(f\"Saved geocoded data for {len(results_df)} bars to LesbianBars_Geocoded.xlsx\")"
   ]
  },
  {
   "cell_type": "markdown",
   "id": "1650e87f-8ea1-4776-9e3a-57e77d604940",
   "metadata": {},
   "source": [
    "### Now manually check the results for accuracy. Fix any misspelled names, etc. in the Excel file so that the search will return the correct result. You can use Google Maps for this."
   ]
  },
  {
   "cell_type": "code",
   "execution_count": 60,
   "id": "ec2c63da-fb97-4054-a04a-985a1529739c",
   "metadata": {},
   "outputs": [
    {
     "data": {
      "text/plain": [
       "[{'address': None,\n",
       "  'latitude': None,\n",
       "  'longitude': None,\n",
       "  'neighbourhood': None,\n",
       "  'postcode': None,\n",
       "  'bar_name': 'A League of Her Own',\n",
       "  'search_string': 'A League of Her Own, Washington, DC, USA'},\n",
       " {'address': None,\n",
       "  'latitude': None,\n",
       "  'longitude': None,\n",
       "  'neighbourhood': None,\n",
       "  'postcode': None,\n",
       "  'bar_name': 'Arcana Bar and Lounge',\n",
       "  'search_string': 'Arcana Bar and Lounge, Durham, North Carolina, USA'},\n",
       " {'address': 'As You Are, 500, 8th Street Southeast, Barracks Row, Capitol Hill, Ward 6, Washington, District of Columbia, 20003, United States',\n",
       "  'latitude': 38.8825825,\n",
       "  'longitude': -76.9947786,\n",
       "  'bar_name': 'As You Are',\n",
       "  'search_string': 'As You Are, Washington, DC, USA'},\n",
       " {'address': None,\n",
       "  'latitude': None,\n",
       "  'longitude': None,\n",
       "  'neighbourhood': None,\n",
       "  'postcode': None,\n",
       "  'bar_name': 'Babes of Carytown',\n",
       "  'search_string': 'Babes of Carytown, Richmond, Virginia, USA'},\n",
       " {'address': None,\n",
       "  'latitude': None,\n",
       "  'longitude': None,\n",
       "  'neighbourhood': None,\n",
       "  'postcode': None,\n",
       "  'bar_name': 'The Backdoor',\n",
       "  'search_string': 'The Backdoor, Bloomington, Indiana, USA'},\n",
       " {'address': None,\n",
       "  'latitude': None,\n",
       "  'longitude': None,\n",
       "  'neighbourhood': None,\n",
       "  'postcode': None,\n",
       "  'bar_name': 'Boycott Bar',\n",
       "  'search_string': 'Boycott Bar, Phoenix, Arizona, USA'},\n",
       " {'address': None,\n",
       "  'latitude': None,\n",
       "  'longitude': None,\n",
       "  'neighbourhood': None,\n",
       "  'postcode': None,\n",
       "  'bar_name': 'The Bush',\n",
       "  'search_string': 'The Bush, Brooklyn, New York, USA'},\n",
       " {'address': 'cubbyhole, 281, West 12th Street, West Village, Manhattan, New York County, City of New York, New York, 10014, United States',\n",
       "  'latitude': 40.7376427,\n",
       "  'longitude': -74.0037475,\n",
       "  'bar_name': 'Cubbyhole',\n",
       "  'search_string': 'Cubbyhole, New York, New York, USA'},\n",
       " {'address': \"Doc Marie's, 203, Southeast Grand Avenue, Central Eastside, Buckman, Portland, Multnomah County, Oregon, 97204, United States\",\n",
       "  'latitude': 45.5213968,\n",
       "  'longitude': -122.6609762,\n",
       "  'bar_name': \"Doc Marie's\",\n",
       "  'search_string': \"Doc Marie's, Portland, Oregon, USA\"},\n",
       " {'address': \"Dani's Queer Bar, 909, Boylston Street, Block G, Back Bay, Boston, Suffolk County, Massachusetts, 02115, United States\",\n",
       "  'latitude': 42.3483854,\n",
       "  'longitude': -71.0843034,\n",
       "  'bar_name': \"Dani's Queer Bar\",\n",
       "  'search_string': \"Dani's Queer Bar, Boston, Massachusetts, USA\"},\n",
       " {'address': 'Saint Dorothy School, 7740-7744, South Eberhart Avenue, South Park Manor Historic District, Greater Grand Crossing, Chicago, Hyde Park Township, Cook County, Illinois, 60619, United States',\n",
       "  'latitude': 41.7535162,\n",
       "  'longitude': -87.61294501078552,\n",
       "  'bar_name': 'Dorothy',\n",
       "  'search_string': 'Dorothy, Chicago, Illinois, USA'},\n",
       " {'address': 'Femme Bar, 62, Green Street, Green Island, Canal District, Worcester, Worcester County, Massachusetts, 01608, United States',\n",
       "  'latitude': 42.2585992,\n",
       "  'longitude': -71.7979563,\n",
       "  'bar_name': 'Femme',\n",
       "  'search_string': 'Femme, Worcester, Massachusetts, USA'},\n",
       " {'address': 'Frankie Lane, Oklahoma City, Cleveland County, Oklahoma, 73165, United States',\n",
       "  'latitude': 35.3251544441261,\n",
       "  'longitude': -97.43467017544202,\n",
       "  'bar_name': \"Frankie's\",\n",
       "  'search_string': \"Frankie's, Oklahoma City, Oklahoma, USA\"},\n",
       " {'address': \"Luanne's Wild Ginger, Franklin Avenue, Brooklyn, Kings County, City of New York, New York, 11225, United States\",\n",
       "  'latitude': 40.6753865,\n",
       "  'longitude': -73.9564235,\n",
       "  'bar_name': \"Ginger's\",\n",
       "  'search_string': \"Ginger's, Brooklyn, New York, USA\"},\n",
       " {'address': 'Gossip Grill, 1220, University Avenue, Hillcrest, San Diego, San Diego County, California, 92103, United States',\n",
       "  'latitude': 32.7487278,\n",
       "  'longitude': -117.152903,\n",
       "  'bar_name': 'Gossip Grill',\n",
       "  'search_string': 'Gossip Grill, San Diego, California, USA'},\n",
       " {'address': 'Henrietta Hudson, 438, Hudson Street, West Village, Manhattan, New York County, City of New York, New York, 10014, United States',\n",
       "  'latitude': 40.7310628,\n",
       "  'longitude': -74.0065268,\n",
       "  'bar_name': 'Henrietta Hudson',\n",
       "  'search_string': 'Henrietta Hudson, New York, New York, USA'},\n",
       " {'address': None,\n",
       "  'latitude': None,\n",
       "  'longitude': None,\n",
       "  'neighbourhood': None,\n",
       "  'postcode': None,\n",
       "  'bar_name': 'Jolene',\n",
       "  'search_string': 'Jolene, San Francisco, California, USA'},\n",
       " {'address': None,\n",
       "  'latitude': None,\n",
       "  'longitude': None,\n",
       "  'neighbourhood': None,\n",
       "  'postcode': None,\n",
       "  'bar_name': \"The Lady's Room\",\n",
       "  'search_string': \"The Lady's Room, Largo, Florida, USA\"},\n",
       " {'address': None,\n",
       "  'latitude': None,\n",
       "  'longitude': None,\n",
       "  'neighbourhood': None,\n",
       "  'postcode': None,\n",
       "  'bar_name': 'The Lipstick Lounge',\n",
       "  'search_string': 'The Lipstick Lounge, Nashville, Tennesee, USA'},\n",
       " {'address': 'Mother, 3079, 16th Street, Mission District, San Francisco, California, 94103, United States',\n",
       "  'latitude': 37.7648164,\n",
       "  'longitude': -122.4213338,\n",
       "  'bar_name': 'Mother',\n",
       "  'search_string': 'Mother, San Francisco, California, USA'},\n",
       " {'address': None,\n",
       "  'latitude': None,\n",
       "  'longitude': None,\n",
       "  'neighbourhood': None,\n",
       "  'postcode': None,\n",
       "  'bar_name': \"My Sister's Room\",\n",
       "  'search_string': \"My Sister's Room, Atlanta, Georgia, USA\"},\n",
       " {'address': \"Nobody's Darling, 1744, West Balmoral Avenue, Andersonville, Edgewater, Chicago, Lake View Township, Cook County, Illinois, 60660, United States\",\n",
       "  'latitude': 41.9798802,\n",
       "  'longitude': -87.6741256,\n",
       "  'bar_name': \"Nobody's Darling\",\n",
       "  'search_string': \"Nobody's Darling, Chicago, Illinois, USA\"},\n",
       " {'address': 'Pearl Bar, 4216, Washington Avenue, Washington Avenue Coalition / Memorial Park, Houston, Harris County, Texas, 77007, United States',\n",
       "  'latitude': 29.77047645,\n",
       "  'longitude': -95.40382517512077,\n",
       "  'bar_name': 'Pearl Bar',\n",
       "  'search_string': 'Pearl Bar, Houston, Texas, USA'},\n",
       " {'address': None,\n",
       "  'latitude': None,\n",
       "  'longitude': None,\n",
       "  'neighbourhood': None,\n",
       "  'postcode': None,\n",
       "  'bar_name': 'The Ruby Fruit',\n",
       "  'search_string': 'The Ruby Fruit, Los Angeles, California, USA'},\n",
       " {'address': None,\n",
       "  'latitude': None,\n",
       "  'longitude': None,\n",
       "  'neighbourhood': None,\n",
       "  'postcode': None,\n",
       "  'bar_name': 'Scarlet Fox Wine Bar',\n",
       "  'search_string': 'Scarlet Fox Wine Bar, San Francisco, California, USA'},\n",
       " {'address': 'Slammers, East Long Street, Warehouse District, Columbus, Franklin County, Ohio, 43216, United States',\n",
       "  'latitude': 39.9657891,\n",
       "  'longitude': -82.9956858,\n",
       "  'bar_name': 'Slammers',\n",
       "  'search_string': 'Slammers, Columbus, Ohio, USA'},\n",
       " {'address': \"The Sports Bra, 2512, Northeast Broadway, Sullivan's Gulch, Portland, Multnomah County, Oregon, 97232, United States\",\n",
       "  'latitude': 45.5349921,\n",
       "  'longitude': -122.63977105000001,\n",
       "  'bar_name': 'The Sports Bra',\n",
       "  'search_string': 'The Sports Bra, Portland, Oregon, USA'},\n",
       " {'address': \"Sue Ellen's, 3014, Throckmorton Street, Oak Lawn, Dallas, Dallas County, Texas, 75219, United States\",\n",
       "  'latitude': 32.810564799999995,\n",
       "  'longitude': -96.81141566937436,\n",
       "  'bar_name': \"Sue Ellen's\",\n",
       "  'search_string': \"Sue Ellen's, Dallas, Texas, USA\"},\n",
       " {'address': None,\n",
       "  'latitude': None,\n",
       "  'longitude': None,\n",
       "  'neighbourhood': None,\n",
       "  'postcode': None,\n",
       "  'bar_name': 'Unicorn Bar',\n",
       "  'search_string': 'Unicorn Bar, Kingston, New York, USA'},\n",
       " {'address': \"Walker's Pint, 818, South 2nd Street, Walker's Point, Milwaukee, Milwaukee County, Wisconsin, 53204, United States\",\n",
       "  'latitude': 43.0227426,\n",
       "  'longitude': -87.9124706,\n",
       "  'bar_name': \"Walker's Pint\",\n",
       "  'search_string': \"Walker's Pint, Milwaukee, Wisconsin, USA\"},\n",
       " {'address': 'Wildrose, 1021, East Pike Street, First Hill, Seattle, King County, Washington, 98122, United States',\n",
       "  'latitude': 47.6139709,\n",
       "  'longitude': -122.3182962,\n",
       "  'bar_name': 'Wildrose',\n",
       "  'search_string': 'Wildrose, Seattle, Washington, USA'},\n",
       " {'address': None,\n",
       "  'latitude': None,\n",
       "  'longitude': None,\n",
       "  'neighbourhood': None,\n",
       "  'postcode': None,\n",
       "  'bar_name': 'Wildside West',\n",
       "  'search_string': 'Wildside West, San Francisco, California, USA'},\n",
       " {'address': 'The Yellow Brick Road Bar, East 15th Street, Florence Park, Tulsa, Tulsa County, Oklahoma, 74104, United States',\n",
       "  'latitude': 36.1403335,\n",
       "  'longitude': -95.95234039666178,\n",
       "  'bar_name': 'Yellow Brick Road Pub',\n",
       "  'search_string': 'Yellow Brick Road Pub, Tulsa, Oklahoma, USA'},\n",
       " {'address': None,\n",
       "  'latitude': None,\n",
       "  'longitude': None,\n",
       "  'neighbourhood': None,\n",
       "  'postcode': None,\n",
       "  'bar_name': 'Herz',\n",
       "  'search_string': 'Herz, Mobile, Alabama, USA'},\n",
       " {'address': None,\n",
       "  'latitude': None,\n",
       "  'longitude': None,\n",
       "  'neighbourhood': None,\n",
       "  'postcode': None,\n",
       "  'bar_name': 'Blush & Blue',\n",
       "  'search_string': 'Blush & Blue, Denver, Colorado, USA'},\n",
       " {'address': None,\n",
       "  'latitude': None,\n",
       "  'longitude': None,\n",
       "  'neighbourhood': None,\n",
       "  'postcode': None,\n",
       "  'bar_name': \"Alibi's\",\n",
       "  'search_string': \"Alibi's, Oklahoma City, Oklahoma, USA\"},\n",
       " {'address': None,\n",
       "  'latitude': None,\n",
       "  'longitude': None,\n",
       "  'neighbourhood': None,\n",
       "  'postcode': None,\n",
       "  'bar_name': 'Whisky Girl Tavern',\n",
       "  'search_string': 'Whisky Girl Tavern, , , USA'},\n",
       " {'address': 'The Closet, North Broadway, Northalsted, Lake View, Chicago, Lake View Township, Cook County, Illinois, 60657, United States',\n",
       "  'latitude': 41.9425068,\n",
       "  'longitude': -87.6442948,\n",
       "  'bar_name': 'The Closet',\n",
       "  'search_string': 'The Closet, , , USA'},\n",
       " {'address': \"Honey's, East Route 66, Glendora, Los Angeles County, California, 91740, United States\",\n",
       "  'latitude': 34.129074849999995,\n",
       "  'longitude': -117.84609130386033,\n",
       "  'bar_name': \"Honey's\",\n",
       "  'search_string': \"Honey's, Los Angeles, California, USA\"},\n",
       " {'address': None,\n",
       "  'latitude': None,\n",
       "  'longitude': None,\n",
       "  'neighbourhood': None,\n",
       "  'postcode': None,\n",
       "  'bar_name': 'The Stop',\n",
       "  'search_string': 'The Stop, Wichita, Kansas, USA'},\n",
       " {'address': None,\n",
       "  'latitude': None,\n",
       "  'longitude': None,\n",
       "  'neighbourhood': None,\n",
       "  'postcode': None,\n",
       "  'bar_name': 'Lipstick 24',\n",
       "  'search_string': 'Lipstick 24, Austin, Texas, USA'},\n",
       " {'address': 'Sisters of the Holy Family of Nazareth Cemetery, Chestnut Wood Village, Philadelphia, Philadelphia County, Pennsylvania, United States',\n",
       "  'latitude': 40.05994735,\n",
       "  'longitude': -74.98716183478965,\n",
       "  'bar_name': 'Sisters',\n",
       "  'search_string': 'Sisters, Philadelphia, Pennsylvania, USA'},\n",
       " {'address': None,\n",
       "  'latitude': None,\n",
       "  'longitude': None,\n",
       "  'neighbourhood': None,\n",
       "  'postcode': None,\n",
       "  'bar_name': 'Toasted Walnut',\n",
       "  'search_string': 'Toasted Walnut, , Pennsylvania, USA'},\n",
       " {'address': \"Vickie's, West Monroe Street, Monroe Park, South Bend, Saint Joseph County, Indiana, 46601, United States\",\n",
       "  'latitude': 41.6707709,\n",
       "  'longitude': -86.25098029298562,\n",
       "  'bar_name': \"Vickie's Bar\",\n",
       "  'search_string': \"Vickie's Bar, South Bend, Indiana, USA\"},\n",
       " {'address': None,\n",
       "  'latitude': None,\n",
       "  'longitude': None,\n",
       "  'neighbourhood': None,\n",
       "  'postcode': None,\n",
       "  'bar_name': \"Broad's Lounge\",\n",
       "  'search_string': \"Broad's Lounge, Chattanooga, Tennesee, USA\"},\n",
       " {'address': None,\n",
       "  'latitude': None,\n",
       "  'longitude': None,\n",
       "  'neighbourhood': None,\n",
       "  'postcode': None,\n",
       "  'bar_name': 'Sweetwater Saloon',\n",
       "  'search_string': 'Sweetwater Saloon, Long Beach, California, USA'},\n",
       " {'address': None,\n",
       "  'latitude': None,\n",
       "  'longitude': None,\n",
       "  'neighbourhood': None,\n",
       "  'postcode': None,\n",
       "  'bar_name': 'Good Luck Charm',\n",
       "  'search_string': 'Good Luck Charm, Portland, Oregon, USA'},\n",
       " {'address': None,\n",
       "  'latitude': None,\n",
       "  'longitude': None,\n",
       "  'neighbourhood': None,\n",
       "  'postcode': None,\n",
       "  'bar_name': \"Fannie's\",\n",
       "  'search_string': \"Fannie's, Milwaukee, Wisconsin, USA\"},\n",
       " {'address': None,\n",
       "  'latitude': None,\n",
       "  'longitude': None,\n",
       "  'neighbourhood': None,\n",
       "  'postcode': None,\n",
       "  'bar_name': 'Wall Street',\n",
       "  'search_string': 'Wall Street, Columbus, Ohio, USA'},\n",
       " {'address': None,\n",
       "  'latitude': None,\n",
       "  'longitude': None,\n",
       "  'neighbourhood': None,\n",
       "  'postcode': None,\n",
       "  'bar_name': 'GirlBar',\n",
       "  'search_string': 'GirlBar, Chicago, Illinois, USA'},\n",
       " {'address': None,\n",
       "  'latitude': None,\n",
       "  'longitude': None,\n",
       "  'neighbourhood': None,\n",
       "  'postcode': None,\n",
       "  'bar_name': 'Coconuts',\n",
       "  'search_string': 'Coconuts, Baltimore, Maryland, USA'},\n",
       " {'address': None,\n",
       "  'latitude': None,\n",
       "  'longitude': None,\n",
       "  'neighbourhood': None,\n",
       "  'postcode': None,\n",
       "  'bar_name': 'The Cartwheel',\n",
       "  'search_string': 'The Cartwheel, New Hope, , USA'},\n",
       " {'address': None,\n",
       "  'latitude': None,\n",
       "  'longitude': None,\n",
       "  'neighbourhood': None,\n",
       "  'postcode': None,\n",
       "  'bar_name': 'Meow Mix',\n",
       "  'search_string': 'Meow Mix, , , USA'},\n",
       " {'address': None,\n",
       "  'latitude': None,\n",
       "  'longitude': None,\n",
       "  'neighbourhood': None,\n",
       "  'postcode': None,\n",
       "  'bar_name': 'Clit Club',\n",
       "  'search_string': 'Clit Club, , , USA'},\n",
       " {'address': None,\n",
       "  'latitude': None,\n",
       "  'longitude': None,\n",
       "  'neighbourhood': None,\n",
       "  'postcode': None,\n",
       "  'bar_name': 'Cash Inn',\n",
       "  'search_string': 'Cash Inn, Phoenix, Arizona, USA'},\n",
       " {'address': None,\n",
       "  'latitude': None,\n",
       "  'longitude': None,\n",
       "  'neighbourhood': None,\n",
       "  'postcode': None,\n",
       "  'bar_name': 'The Lexington Club',\n",
       "  'search_string': 'The Lexington Club, San Francisco, California, USA'},\n",
       " {'address': 'The Flame Cocktail Lounge, Park Boulevard, Hillcrest, San Diego, San Diego County, California, 92163, United States',\n",
       "  'latitude': 32.747146,\n",
       "  'longitude': -117.146624,\n",
       "  'bar_name': 'The Flame',\n",
       "  'search_string': 'The Flame, San Diego, California, USA'}]"
      ]
     },
     "execution_count": 60,
     "metadata": {},
     "output_type": "execute_result"
    }
   ],
   "source": [
    "results"
   ]
  },
  {
   "cell_type": "code",
   "execution_count": null,
   "id": "9668c5da-93b8-4f1b-b458-100e13bf510e",
   "metadata": {},
   "outputs": [],
   "source": [
    "# Import necessary libraries\n",
    "import pandas as pd\n",
    "from geopy.geocoders import Nominatim\n",
    "from geopy.exc import GeocoderTimedOut, GeocoderServiceError\n",
    "import time\n",
    "from tqdm import tqdm\n",
    "\n",
    "# Load the Excel file\n",
    "xls = 'LesbianBars_US.xlsx'\n",
    "df = pd.read_excel(xls, \"Bars\")\n",
    "\n",
    "# Initialize the geocoder\n",
    "geolocator = Nominatim(user_agent=\"lesbianbars\")\n",
    "\n",
    "# Define functions\n",
    "\n",
    "def get_location_data(search_string, max_retries=3):\n",
    "    \"\"\"\n",
    "    Retrieves location data for a given search string using Nominatim (OpenStreetMap data).\n",
    "    Includes retry logic for handling timeouts and extracts additional location details.\n",
    "    \"\"\"\n",
    "    for attempt in range(max_retries):\n",
    "        try:\n",
    "            # Add a delay to respect Nominatim's usage policy (1 request per second)\n",
    "            if attempt > 0:\n",
    "                time.sleep(1)\n",
    "            \n",
    "            location = geolocator.geocode(search_string, timeout=10)\n",
    "            \n",
    "            if location:\n",
    "                # Basic location data\n",
    "                result = {\n",
    "                    'address': location.address,\n",
    "                    'latitude': location.latitude,\n",
    "                    'longitude': location.longitude\n",
    "                }\n",
    "                \n",
    "                # Add neighborhood and postcode if available in the address components\n",
    "                if 'address' in location.raw:\n",
    "                    addr = location.raw['address']\n",
    "                    \n",
    "                    # Extract neighbourhood (might be spelled differently in different regions)\n",
    "                    if 'neighbourhood' in addr:\n",
    "                        result['neighbourhood'] = addr['neighbourhood']\n",
    "                    elif 'neighborhood' in addr:\n",
    "                        result['neighbourhood'] = addr['neighborhood']\n",
    "                    else:\n",
    "                        result['neighbourhood'] = None\n",
    "                    \n",
    "                    # Extract postcode\n",
    "                    if 'postcode' in addr:\n",
    "                        result['postcode'] = addr['postcode']\n",
    "                    else:\n",
    "                        result['postcode'] = None\n",
    "                    \n",
    "                return result\n",
    "            else:\n",
    "                return {\n",
    "                    'address': None,\n",
    "                    'latitude': None,\n",
    "                    'longitude': None,\n",
    "                    'neighbourhood': None,\n",
    "                    'postcode': None,\n",
    "                    'error': \"No results found\"\n",
    "                }\n",
    "                \n",
    "        except (GeocoderTimedOut, GeocoderServiceError) as e:\n",
    "            if attempt == max_retries - 1:\n",
    "                return {\n",
    "                    'address': None,\n",
    "                    'latitude': None,\n",
    "                    'longitude': None,\n",
    "                    'neighbourhood': None,\n",
    "                    'postcode': None,\n",
    "                    'error': f\"Failed after {max_retries} attempts: {str(e)}\"\n",
    "                }\n",
    "            time.sleep(2)  # Wait a bit longer before retrying\n",
    "\n",
    "# Create search strings combining name, city and state\n",
    "results = []\n",
    "\n",
    "# Use tqdm to create a progress bar\n",
    "for _, row in tqdm(df.iterrows(), total=len(df), desc=\"Geocoding bars\"):\n",
    "    name = row['Name']\n",
    "    city = row['City'] if 'City' in row and pd.notna(row['City']) else \"\"\n",
    "    state = row['State'] if 'State' in row and pd.notna(row['State']) else \"\"\n",
    "    \n",
    "    search_string = f\"{name}, {city}, {state}, USA\"\n",
    "    \n",
    "    # Get location data\n",
    "    location_data = get_location_data(search_string)\n",
    "    \n",
    "    # Add the bar name and search string to the location data\n",
    "    location_data['bar_name'] = name\n",
    "    location_data['search_string'] = search_string\n",
    "    \n",
    "    # Print error if there was one (optional)\n",
    "    if 'error' in location_data:\n",
    "        tqdm.write(f\"Error for {name}: {location_data['error']}\")\n",
    "        location_data.pop('error', None)  # Remove error key from dictionary\n",
    "    \n",
    "    results.append(location_data)\n",
    "    \n",
    "    # Add a delay to respect Nominatim's usage policy (1 request per second)\n",
    "    time.sleep(1)\n",
    "\n",
    "# Create a DataFrame from the results\n",
    "results_df = pd.DataFrame(results)\n",
    "\n",
    "# Reorder the columns for better readability\n",
    "results_df = results_df[['bar_name', 'search_string', 'address', 'latitude', 'longitude', 'neighbourhood', 'postcode']]\n",
    "\n",
    "# Display the first few results\n",
    "print(\"\\nFirst few results:\")\n",
    "print(results_df.head())\n",
    "\n",
    "# Save the results to a new Excel file\n",
    "results_df.to_excel('LesbianBars_Geocoded.xlsx', index=False)\n",
    "print(f\"Saved geocoded data for {len(results_df)} bars to LesbianBars_Geocoded.xlsx\")"
   ]
  }
 ],
 "metadata": {
  "kernelspec": {
   "display_name": "Python 3 (ipykernel)",
   "language": "python",
   "name": "python3"
  },
  "language_info": {
   "codemirror_mode": {
    "name": "ipython",
    "version": 3
   },
   "file_extension": ".py",
   "mimetype": "text/x-python",
   "name": "python",
   "nbconvert_exporter": "python",
   "pygments_lexer": "ipython3",
   "version": "3.12.6"
  }
 },
 "nbformat": 4,
 "nbformat_minor": 5
}
